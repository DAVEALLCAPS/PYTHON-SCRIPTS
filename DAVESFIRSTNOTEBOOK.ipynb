{
 "cells": [
  {
   "cell_type": "markdown",
   "id": "a00ec298",
   "metadata": {},
   "source": [
    "# I CHANGED THIS TO MARKDOWN NOW I CAN PUT MY TITLE OR WHATEVER\n",
    "### BY DAVEALLCAPS"
   ]
  },
  {
   "cell_type": "code",
   "execution_count": 6,
   "id": "697bc96f",
   "metadata": {},
   "outputs": [
    {
     "name": "stdout",
     "output_type": "stream",
     "text": [
      "D\n",
      "DA\n",
      "DAV\n",
      "DAVE\n",
      "DAVEA\n",
      "DAVEAL\n",
      "DAVEALL\n",
      "DAVEALLC\n",
      "DAVEALLCA\n",
      "DAVEALLCAP\n",
      "DAVEALLCAPS\n"
     ]
    }
   ],
   "source": [
    "me = 'DAVEALLCAPS'\n",
    "me2 = ''\n",
    "for i in me:\n",
    "    me2 += i\n",
    "    print(me2)"
   ]
  }
 ],
 "metadata": {
  "kernelspec": {
   "display_name": "Python 3 (ipykernel)",
   "language": "python",
   "name": "python3"
  },
  "language_info": {
   "codemirror_mode": {
    "name": "ipython",
    "version": 3
   },
   "file_extension": ".py",
   "mimetype": "text/x-python",
   "name": "python",
   "nbconvert_exporter": "python",
   "pygments_lexer": "ipython3",
   "version": "3.10.5"
  }
 },
 "nbformat": 4,
 "nbformat_minor": 5
}
